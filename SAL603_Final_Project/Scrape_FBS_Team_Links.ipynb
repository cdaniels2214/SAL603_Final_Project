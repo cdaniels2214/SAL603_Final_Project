{
 "cells": [
  {
   "cell_type": "code",
   "execution_count": 40,
   "id": "26e820d0-f03d-44d0-b85a-e83682302cd0",
   "metadata": {},
   "outputs": [],
   "source": [
    "# Allow output from every line\n",
    "from IPython.core.interactiveshell import InteractiveShell\n",
    "InteractiveShell.ast_node_interactivity = \"all\""
   ]
  },
  {
   "cell_type": "code",
   "execution_count": 44,
   "id": "a0e7e896-b51e-4161-82e8-fb5f13e62b25",
   "metadata": {},
   "outputs": [
    {
     "name": "stdout",
     "output_type": "stream",
     "text": [
      "Scraped 127 matching FBS team links and saved to C:\\Users\\Christopher\\OneDrive - Syracuse University\\PythonSportAnalytics\\Section_8\\Final_Project\\fbs_teams_links.csv.\n"
     ]
    }
   ],
   "source": [
    "import pandas as pd\n",
    "import requests\n",
    "from bs4 import BeautifulSoup\n",
    "\n",
    "# Define file paths\n",
    "base_dir = r\"C:\\Users\\Christopher\\OneDrive - Syracuse University\\PythonSportAnalytics\\Section_8\\Final_Project\"\n",
    "file_path = f\"{base_dir}\\\\fbs_teams_2014_2024.csv\"\n",
    "output_file = f\"{base_dir}\\\\fbs_teams_links.csv\"\n",
    "\n",
    "# Load FBS team names\n",
    "df = pd.read_csv(file_path)\n",
    "fbs_teams = set(df[\"School\"])\n",
    "\n",
    "# URL of the Sports Reference page\n",
    "url = \"https://www.sports-reference.com/cfb/schools/\"\n",
    "response = requests.get(url)\n",
    "soup = BeautifulSoup(response.text, \"html.parser\")\n",
    "\n",
    "# Find the schools table\n",
    "table = soup.find(\"table\", {\"id\": \"schools\"})\n",
    "team_links = []\n",
    "\n",
    "# Extract school names and links\n",
    "for row in table.find_all(\"tr\")[1:]:  # Skip the header\n",
    "    columns = row.find_all(\"td\")\n",
    "    if columns:\n",
    "        school_name = columns[0].text.strip()\n",
    "        link = columns[0].find(\"a\")[\"href\"] if columns[0].find(\"a\") else None\n",
    "\n",
    "        # Check if the school is in the FBS teams list\n",
    "        if school_name in fbs_teams and link:\n",
    "            team_links.append({\"School\": school_name, \"Link\": f\"https://www.sports-reference.com{link}\"})\n",
    "\n",
    "# Convert to DataFrame and save\n",
    "df_links = pd.DataFrame(team_links)\n",
    "df_links.to_csv(output_file, index=False)\n",
    "\n",
    "print(f\"Scraped {len(df_links)} matching FBS team links and saved to {output_file}.\")\n"
   ]
  },
  {
   "cell_type": "code",
   "execution_count": null,
   "id": "c744b25c-52c7-4a8a-ab9e-17bd41ded56d",
   "metadata": {},
   "outputs": [],
   "source": []
  }
 ],
 "metadata": {
  "kernelspec": {
   "display_name": "Python 3 (ipykernel)",
   "language": "python",
   "name": "python3"
  },
  "language_info": {
   "codemirror_mode": {
    "name": "ipython",
    "version": 3
   },
   "file_extension": ".py",
   "mimetype": "text/x-python",
   "name": "python",
   "nbconvert_exporter": "python",
   "pygments_lexer": "ipython3",
   "version": "3.12.7"
  }
 },
 "nbformat": 4,
 "nbformat_minor": 5
}
