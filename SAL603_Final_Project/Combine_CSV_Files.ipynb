{
 "cells": [
  {
   "cell_type": "code",
   "execution_count": 16,
   "id": "118942a4-6baa-48fc-86b6-4683a63d3596",
   "metadata": {},
   "outputs": [
    {
     "name": "stdout",
     "output_type": "stream",
     "text": [
      "Combined CSV file saved to C:\\Users\\Christopher\\OneDrive - Syracuse University\\PythonSportAnalytics\\Section_8\\Final_Project\\CSV_Files\\combined_fbs_stats_2022_2024.csv\n",
      "        Team  Year   G   W   L    Pct  Rushing Att  Rushing Yds  Rushing Y/A  \\\n",
      "2  Air Force  2024  12   5   7  0.417          664         2688          4.1   \n",
      "1  Air Force  2023  13   9   4  0.692          702         3660          5.3   \n",
      "0  Air Force  2022  13  10   3  0.769          776         4247          5.6   \n",
      "5      Akron  2024  12   4   8  0.333          339         1204          3.6   \n",
      "4      Akron  2023  12   2  10  0.167          339          972          2.9   \n",
      "\n",
      "   Rushing TD  ...   Yds  TD  TD%  Int  Int%   Y/A   AY/A   Y/C    Y/G   Rate  \n",
      "2          24  ...  1077   5  3.6   10   7.2   7.8   5.27  17.4   89.8  107.9  \n",
      "1          36  ...  1105   7  6.7    6   5.7  10.5   9.29  20.1   85.0  151.4  \n",
      "0          37  ...   916   8  9.3    2   2.3  10.7  11.47  22.3   70.5  163.2  \n",
      "5          11  ...  2789  16  3.8   10   2.4   6.7   6.36  11.9  232.4  119.9  \n",
      "4          12  ...  2371  10  2.4   15   3.5   5.6   4.48   9.2  197.6  108.8  \n",
      "\n",
      "[5 rows x 33 columns]\n"
     ]
    }
   ],
   "source": [
    "import pandas as pd\n",
    "\n",
    "# Define base directory for saving files\n",
    "base_dir = r\"C:\\Users\\Christopher\\OneDrive - Syracuse University\\PythonSportAnalytics\\Section_8\\Final_Project\\CSV_Files\"\n",
    "\n",
    "# Define the paths to your CSV files\n",
    "file_1 = base_dir + \"\\\\fbs_total_team_rushing_receiving_stats_by_season_2022_2024.csv\"\n",
    "file_2 = base_dir + \"\\\\fbs_total_team_passing_stats_by_season_2022_2024.csv\"\n",
    "file_3 = base_dir + \"\\\\fbs_teams_record_by_season_2022_2024.csv\"\n",
    "\n",
    "# Load the CSV files into pandas DataFrames\n",
    "df1 = pd.read_csv(file_1)\n",
    "df2 = pd.read_csv(file_2)\n",
    "df3 = pd.read_csv(file_3)\n",
    "\n",
    "# Rename 'School' column in df3 to 'Team' for consistency\n",
    "df3.rename(columns={'School': 'Team'}, inplace=True)\n",
    "\n",
    "# Merge all the DataFrames on 'Team' and 'Year'\n",
    "df1 = df1.rename(columns={'Year': 'Year'})\n",
    "df2 = df2.rename(columns={'Year': 'Year'})\n",
    "df3 = df3.rename(columns={'Year': 'Year'})\n",
    "\n",
    "# Merge all DataFrames on both 'Team' and 'Year'\n",
    "combined_df = pd.merge(df1, df2, on=['Team', 'Year'], how='outer')  # Merge df1 and df2 on 'Team' and 'Year'\n",
    "combined_df = pd.merge(combined_df, df3, on=['Team', 'Year'], how='outer')  # Merge with df3\n",
    "\n",
    "# *ADDED LATER* Drop the duplicate 'G' columns ('G_x' and 'G_y') and keep the first one\n",
    "if 'G_x' in combined_df.columns and 'G_y' in combined_df.columns:\n",
    "    combined_df['G'] = combined_df['G_x'].combine_first(combined_df['G_y'])\n",
    "    combined_df.drop(['G_x', 'G_y'], axis=1, inplace=True)\n",
    "\n",
    "# Drop the 'Year Link' column\n",
    "if 'Year Link' in combined_df.columns:\n",
    "    combined_df.drop(['Year Link'], axis=1, inplace=True)\n",
    "\n",
    "# Rename \"Rec\" column to \"Total Receptions\"\n",
    "if 'Rec' in combined_df.columns:\n",
    "    combined_df.rename(columns={'Rec': 'Total Receptions'}, inplace=True)\n",
    "\n",
    "# Reorder columns to put 'G' and then 'W', 'L', 'Pct' after 'G'\n",
    "columns = ['Team', 'Year', 'G', 'W', 'L', 'Pct'] + [col for col in combined_df.columns if col not in ['Team', 'Year', 'G', 'W', 'L', 'Pct']]\n",
    "combined_df = combined_df[columns]\n",
    "\n",
    "# Sort the DataFrame by 'Team' and 'Year' in descending order of 'Year'\n",
    "combined_df = combined_df.sort_values(by=['Team', 'Year'], ascending=[True, False])\n",
    "\n",
    "# Save the combined DataFrame to a new CSV file\n",
    "output_file = base_dir + \"\\\\combined_fbs_stats_2022_2024.csv\"\n",
    "combined_df.to_csv(output_file, index=False)\n",
    "\n",
    "print(f\"Combined CSV file saved to {output_file}\")\n",
    "\n",
    "# Preview the combined data\n",
    "print(combined_df.head())\n"
   ]
  },
  {
   "cell_type": "code",
   "execution_count": 17,
   "id": "95b89e2b-5880-4e3a-ad96-97b3a80b92c1",
   "metadata": {},
   "outputs": [
    {
     "name": "stdout",
     "output_type": "stream",
     "text": [
      "All teams have one entry per season (2022, 2023, 2024).\n",
      "\n",
      "No duplicate entries found.\n"
     ]
    }
   ],
   "source": [
    "# Check new file for any missing or duplicate data\n",
    "combined_file = base_dir + \"\\\\combined_fbs_stats_2022_2024.csv\"\n",
    "\n",
    "# Load the combined CSV file into a pandas DataFrame\n",
    "combined_df = pd.read_csv(combined_file)\n",
    "\n",
    "# Check if each unique team has one entry per season 2022, 2023, 2024\n",
    "required_years = [2022, 2023, 2024]\n",
    "\n",
    "# Group by 'Team' and count the number of unique years for each team\n",
    "team_year_counts = combined_df.groupby('Team')['Year'].nunique()\n",
    "\n",
    "# Check for teams that do not have exactly 3 unique seasons (2022, 2023, 2024)\n",
    "teams_missing_years = team_year_counts[team_year_counts != 3]\n",
    "\n",
    "# Print teams missing seasons\n",
    "if teams_missing_years.empty:\n",
    "    print(\"All teams have one entry per season (2022, 2023, 2024).\")\n",
    "else:\n",
    "    print(\"The following teams are missing entries for one or more seasons:\")\n",
    "    print(teams_missing_years)\n",
    "\n",
    "# Check for potential duplicates (same team and same year)\n",
    "duplicates = combined_df[combined_df.duplicated(subset=['Team', 'Year'], keep=False)]\n",
    "\n",
    "# Print duplicate rows if they exist\n",
    "if not duplicates.empty:\n",
    "    print(\"\\nPotential duplicate entries found:\")\n",
    "    print(duplicates)\n",
    "else:\n",
    "    print(\"\\nNo duplicate entries found.\")"
   ]
  },
  {
   "cell_type": "code",
   "execution_count": null,
   "id": "6b06e925-eec5-4895-9b0b-3a74052da0c7",
   "metadata": {},
   "outputs": [],
   "source": []
  }
 ],
 "metadata": {
  "kernelspec": {
   "display_name": "Python 3 (ipykernel)",
   "language": "python",
   "name": "python3"
  },
  "language_info": {
   "codemirror_mode": {
    "name": "ipython",
    "version": 3
   },
   "file_extension": ".py",
   "mimetype": "text/x-python",
   "name": "python",
   "nbconvert_exporter": "python",
   "pygments_lexer": "ipython3",
   "version": "3.12.7"
  }
 },
 "nbformat": 4,
 "nbformat_minor": 5
}
