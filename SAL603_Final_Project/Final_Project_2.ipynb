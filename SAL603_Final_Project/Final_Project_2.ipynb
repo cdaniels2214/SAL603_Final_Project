{
 "cells": [
  {
   "cell_type": "code",
   "execution_count": null,
   "id": "d83f81d3-c126-4ad7-bf83-21e108a38de5",
   "metadata": {},
   "outputs": [],
   "source": [
    "# Allow output from every line\n",
    "from IPython.core.interactiveshell import InteractiveShell\n",
    "InteractiveShell.ast_node_interactivity = \"all\"\n",
    "\n",
    "import pandas as pd\n",
    "import numpy as np\n",
    "import os\n",
    "import matplotlib.pyplot as plt\n",
    "import seaborn as sns\n",
    "from matplotlib.backends.backend_pdf import PdfPages\n",
    "from scipy import stats"
   ]
  },
  {
   "cell_type": "code",
   "execution_count": null,
   "id": "4b665918-3376-4b8a-89c2-b5b982452b89",
   "metadata": {},
   "outputs": [],
   "source": [
    "# File paths\n",
    "base_path = r\"C:\\Users\\Christopher\\OneDrive - Syracuse University\\PythonSportAnalytics\\Section_8\\Final_Project\\CSV_Files\"\n",
    "roster_files = [\n",
    "    os.path.join(base_path, f\"cfbstats_team_rosters_{year}.csv\") for year in [2022, 2023, 2024]\n",
    "]\n",
    "win_stats_file = os.path.join(base_path, \"combined_fbs_stats_2022_2024.csv\")\n",
    "passing_defense_file = os.path.join(base_path, \"cfbstats_team_passing_stats_defense_2022_2024.csv\")\n",
    "rushing_defense_file = os.path.join(base_path, \"cfbstats_team_rushing_stats_defense_2022_2024.csv\")\n",
    "\n",
    "# Path to save visualizations\n",
    "visualizations_path = r\"C:\\Users\\Christopher\\OneDrive - Syracuse University\\PythonSportAnalytics\\Section_8\\Final_Project\\Visualizations\\Height_Weight_Statistics\""
   ]
  },
  {
   "cell_type": "code",
   "execution_count": null,
   "id": "c1baa58d-e63d-48cc-80fe-e52d77cd6929",
   "metadata": {},
   "outputs": [],
   "source": [
    "# Function to convert height from ft-in format to inches\n",
    "def convert_height(height):\n",
    "    if isinstance(height, str) and \"'\" in height:\n",
    "        try:\n",
    "            feet, inches = map(int, height.replace('\"', \"\").split(\"'\"))\n",
    "            return feet * 12 + inches\n",
    "        except ValueError:\n",
    "            return float('nan')\n",
    "    return float('nan')"
   ]
  },
  {
   "cell_type": "code",
   "execution_count": null,
   "id": "baec2d25-a4d2-4586-875d-0dec6eed3b93",
   "metadata": {},
   "outputs": [],
   "source": [
    "# Function to calculate BMI (using height in inches and weight in pounds)\n",
    "def calculate_bmi(height_in_inches, weight_in_pounds):\n",
    "    return (weight_in_pounds * 0.453592) / ((height_in_inches * 0.0254) ** 2) if height_in_inches > 0 else float('nan')"
   ]
  },
  {
   "cell_type": "code",
   "execution_count": null,
   "id": "73d38040-0937-421c-8f5c-3b19119f6cdc",
   "metadata": {},
   "outputs": [],
   "source": [
    "# Load and process roster data\n",
    "all_rosters = []\n",
    "for file in roster_files:\n",
    "    if os.path.exists(file):\n",
    "        df = pd.read_csv(file)\n",
    "        df[\"Ht\"] = df[\"Ht\"].apply(convert_height)\n",
    "        df[\"Wt\"] = pd.to_numeric(df[\"Wt\"], errors='coerce')\n",
    "        # Calculate BMI and add it to the dataframe\n",
    "        df[\"BMI\"] = df.apply(lambda row: calculate_bmi(row[\"Ht\"], row[\"Wt\"]), axis=1)\n",
    "        all_rosters.append(df)\n",
    "\n",
    "roster_data = pd.concat(all_rosters, ignore_index=True)\n"
   ]
  },
  {
   "cell_type": "code",
   "execution_count": null,
   "id": "6620c071-eba1-4870-8e4a-1a29685e68cf",
   "metadata": {},
   "outputs": [],
   "source": [
    "# Compute average BMI per team (across all seasons)\n",
    "team_size_metrics = roster_data.groupby([\"Team\"])[[\"BMI\"]].mean().reset_index()"
   ]
  },
  {
   "cell_type": "code",
   "execution_count": null,
   "id": "85598800-9844-4505-9d0f-87555bb7071e",
   "metadata": {},
   "outputs": [],
   "source": [
    "# Load win statistics\n",
    "df_win_stats = pd.read_csv(win_stats_file)[[\"Team\", \"Year\", \"Pct\", \"W\", \"L\"]]"
   ]
  },
  {
   "cell_type": "code",
   "execution_count": null,
   "id": "1400e2e2-492e-4d62-afe6-9c4bd94c50d0",
   "metadata": {},
   "outputs": [],
   "source": [
    "# Aggregate win stats across all seasons for each team\n",
    "df_win_stats_combined = df_win_stats.groupby(\"Team\")[[\"Pct\", \"W\", \"L\"]].mean().reset_index()"
   ]
  },
  {
   "cell_type": "code",
   "execution_count": null,
   "id": "23d5910a-50cb-421c-abba-eac52f894f83",
   "metadata": {},
   "outputs": [],
   "source": [
    "# Merge team BMI with win stats\n",
    "df_merged = pd.merge(team_size_metrics, df_win_stats_combined, on=\"Team\", how=\"left\")"
   ]
  },
  {
   "cell_type": "code",
   "execution_count": null,
   "id": "4a49e585-380a-4ce0-a6af-f331a1eb7934",
   "metadata": {},
   "outputs": [],
   "source": [
    "# Load passing defense stats and aggregate across all seasons\n",
    "df_passing_defense = pd.read_csv(passing_defense_file)[[\"Team\", \"Year\", \"Yards\", \"Yards/G\", \"TD\", \"Int\"]]\n",
    "df_passing_defense_combined = df_passing_defense.groupby(\"Team\")[[\"Yards\", \"Yards/G\", \"TD\", \"Int\"]].mean().reset_index()\n",
    "df_passing_defense_combined.rename(columns={\"Yards\": \"D_Passing_Yards\", \"Yards/G\": \"D_Passing_Yards/G\"}, inplace=True)"
   ]
  },
  {
   "cell_type": "code",
   "execution_count": null,
   "id": "45329110-13e9-4d3e-96ed-f5fe3ebe9a96",
   "metadata": {},
   "outputs": [],
   "source": [
    "# Load rushing defense stats and aggregate across all seasons\n",
    "df_rushing_defense = pd.read_csv(rushing_defense_file)[[\"Team\", \"Year\", \"Yards\", \"Yards/G\", \"TD\"]]\n",
    "df_rushing_defense_combined = df_rushing_defense.groupby(\"Team\")[[\"Yards\", \"Yards/G\", \"TD\"]].mean().reset_index()\n",
    "df_rushing_defense_combined.rename(columns={\"Yards\": \"D_Rushing_Yards\", \"Yards/G\": \"D_Rushing_Yards/G\"}, inplace=True)"
   ]
  },
  {
   "cell_type": "code",
   "execution_count": null,
   "id": "751bfc11-8817-4f90-8c4e-1bb1700e9887",
   "metadata": {},
   "outputs": [],
   "source": [
    "# Merge passing and rushing defense into df_merged\n",
    "df_merged = pd.merge(df_merged, df_passing_defense_combined, on=\"Team\", how=\"left\")\n",
    "df_merged = pd.merge(df_merged, df_rushing_defense_combined, on=\"Team\", how=\"left\")"
   ]
  },
  {
   "cell_type": "code",
   "execution_count": null,
   "id": "cdad163e-86cc-4862-8a21-5182354057dc",
   "metadata": {},
   "outputs": [],
   "source": [
    "# Load per game stats and apply necessary renaming\n",
    "df_per_game_stats = pd.read_csv(win_stats_file)"
   ]
  },
  {
   "cell_type": "code",
   "execution_count": null,
   "id": "7e03b010-9957-4665-a93a-b820b9bf20bc",
   "metadata": {},
   "outputs": [],
   "source": [
    "# Rename the relevant Offensive Stat columns\n",
    "df_per_game_stats.rename(columns={\n",
    "    \"Rushing Yds\": \"O_Rushing_Yards\",\n",
    "    \"Receiving Yds_Rec\": \"O_Receiving_Yards\",\n",
    "    \"Rushing Y/G\": \"O_Rushing_Yards/G\",\n",
    "    \"Receiving Y/G_Rec\": \"O_Receiving_Yards/G\"\n",
    "}, inplace=True)\n"
   ]
  },
  {
   "cell_type": "code",
   "execution_count": null,
   "id": "3647f2b1-1f31-4a0b-b8eb-46bed7eb9350",
   "metadata": {},
   "outputs": [],
   "source": [
    "# Ensure the proper renaming and check the columns after renaming\n",
    "print(df_per_game_stats.columns)\n"
   ]
  },
  {
   "cell_type": "code",
   "execution_count": null,
   "id": "fb12e42d-5edc-4ed9-93b2-2f8cdf66b7e4",
   "metadata": {},
   "outputs": [],
   "source": [
    "# Aggregate per game stats across all seasons\n",
    "df_per_game_stats_combined = df_per_game_stats.groupby(\"Team\")[[\"O_Rushing_Yards\", \"O_Receiving_Yards\", \"O_Rushing_Yards/G\", \"O_Receiving_Yards/G\"]].mean().reset_index()"
   ]
  },
  {
   "cell_type": "code",
   "execution_count": null,
   "id": "48b8a34d-3dfa-41b5-8051-026440476faa",
   "metadata": {},
   "outputs": [],
   "source": [
    "# Merge per game stats into df_merged\n",
    "df_merged = pd.merge(df_merged, df_per_game_stats_combined, on=\"Team\", how=\"left\")"
   ]
  },
  {
   "cell_type": "code",
   "execution_count": null,
   "id": "baed1f72-cfe9-46f9-9b58-8ecd8c584032",
   "metadata": {},
   "outputs": [],
   "source": [
    "# Verify columns again after merging\n",
    "print(df_merged.columns)"
   ]
  },
  {
   "cell_type": "code",
   "execution_count": null,
   "id": "87629789-8ce4-45f8-a17b-8f42622cdec1",
   "metadata": {},
   "outputs": [],
   "source": [
    "# Function to save each plot as a separate PDF\n",
    "def save_single_pdf(plot_func, filename):\n",
    "    with PdfPages(os.path.join(visualizations_path, filename)) as pdf:\n",
    "        plot_func() \n",
    "        pdf.savefig() \n",
    "        plt.close() "
   ]
  },
  {
   "cell_type": "code",
   "execution_count": null,
   "id": "61bb78d1-e0b5-45bf-bf4c-676a185f84c0",
   "metadata": {},
   "outputs": [],
   "source": [
    "# Calculate FBS average BMI\n",
    "fbs_avg_bmi = df_merged[\"BMI\"].mean()"
   ]
  },
  {
   "cell_type": "code",
   "execution_count": null,
   "id": "7dc3164e-137f-4bfe-bbe4-4648af13bf40",
   "metadata": {},
   "outputs": [],
   "source": [
    "# Create Bar Chart Visualizations\n",
    "def plot_top_25_bmi_stats():\n",
    "    top_25_bmi = df_merged.sort_values(by=\"BMI\", ascending=False).head(25)\n",
    "    plt.figure(figsize=(16, 12))\n",
    "    ax = sns.barplot(x=\"Team\", y=\"BMI\", data=top_25_bmi)\n",
    "    plt.axhline(fbs_avg_bmi, color='orange', linestyle='--', label=f'FBS Average BMI: {fbs_avg_bmi:.2f}')\n",
    "    plt.title(\"Top 25 Teams by BMI\")\n",
    "    plt.xlabel(\"Team\")\n",
    "    plt.ylabel(\"Average Team BMI\")\n",
    "    plt.xticks(rotation=90)\n",
    "    plt.legend()\n",
    "    \n",
    "    # Add BMI number inside the bars (using BMI value)\n",
    "    for p in ax.patches:\n",
    "        ax.annotate(f'{p.get_height():.2f}', \n",
    "                    (p.get_x() + p.get_width() / 2., p.get_height() / 2.), \n",
    "                    ha='center', va='center', fontsize=10, color='black')\n",
    "    \n",
    "    plt.tight_layout()\n",
    "    save_single_pdf(lambda: plt.plot(), \"Top_25_Teams_by_BMI_Stats.pdf\")"
   ]
  },
  {
   "cell_type": "code",
   "execution_count": null,
   "id": "454f7247-098e-4771-9ea6-3a252a7f85be",
   "metadata": {},
   "outputs": [],
   "source": [
    "def plot_bottom_25_bmi_stats():\n",
    "    bottom_25_bmi = df_merged.sort_values(by=\"BMI\", ascending=True).head(25)\n",
    "    plt.figure(figsize=(16, 12))\n",
    "    ax = sns.barplot(x=\"Team\", y=\"BMI\", data=bottom_25_bmi)\n",
    "    plt.axhline(fbs_avg_bmi, color='orange', linestyle='--', label=f'FBS Average BMI: {fbs_avg_bmi:.2f}')\n",
    "    plt.title(\"Bottom 25 Teams by BMI\")\n",
    "    plt.xlabel(\"Team\")\n",
    "    plt.ylabel(\"Average Team BMI\")\n",
    "    plt.xticks(rotation=90)\n",
    "    plt.legend()\n",
    "    \n",
    "    # Add BMI number inside the bars (using BMI value)\n",
    "    for p in ax.patches:\n",
    "        ax.annotate(f'{p.get_height():.2f}', \n",
    "                    (p.get_x() + p.get_width() / 2., p.get_height() / 2.), \n",
    "                    ha='center', va='center', fontsize=10, color='black')\n",
    "    \n",
    "    plt.tight_layout()\n",
    "    save_single_pdf(lambda: plt.plot(), \"Bottom_25_Teams_by_BMI_Stats.pdf\")"
   ]
  },
  {
   "cell_type": "code",
   "execution_count": null,
   "id": "54cc4d6e-159a-48c0-8156-a18caa741847",
   "metadata": {},
   "outputs": [],
   "source": [
    "# Create Top 25 bar charts for rushing and passing stats\n",
    "def plot_top_25_by_bmi(stat_column, stat_label, title, filename):\n",
    "    top_25_stat = df_merged.sort_values(by=stat_column, ascending=False).head(25)\n",
    "    plt.figure(figsize=(16, 12))\n",
    "    ax = sns.barplot(x=\"Team\", y=stat_column, data=top_25_stat)\n",
    "    \n",
    "    # Add a legend with FBS Average BMI\n",
    "    plt.legend([f'FBS Average BMI: {fbs_avg_bmi:.2f}'], loc='upper right')\n",
    "\n",
    "    plt.title(title)\n",
    "    plt.xlabel(\"Team\")\n",
    "    plt.ylabel(stat_label)\n",
    "    \n",
    "    # Add BMI number inside the bars (using BMI value)\n",
    "    for p in ax.patches:\n",
    "        team_name = top_25_stat.iloc[int(p.get_x())][\"Team\"]  # Extract team name based on x-position\n",
    "        bmi_value = top_25_stat[top_25_stat[\"Team\"] == team_name][\"BMI\"].values[0]  # Get BMI for the team\n",
    "        ax.annotate(f'{bmi_value:.2f}', \n",
    "                    (p.get_x() + p.get_width() / 2., p.get_height() / 2.), \n",
    "                    ha='center', va='center', fontsize=10, color='black')\n",
    "    \n",
    "    plt.xticks(rotation=90)\n",
    "    plt.tight_layout()\n",
    "    save_single_pdf(lambda: plt.plot(), filename)"
   ]
  },
  {
   "cell_type": "code",
   "execution_count": null,
   "id": "b43aff8d-c133-48cb-93d4-623ac9c2d15b",
   "metadata": {},
   "outputs": [],
   "source": [
    "# Create Bottom 25 bar charts\n",
    "def plot_bottom_25_by_bmi(stat_column, stat_label, title, filename):\n",
    "    bottom_25_stat = df_merged.sort_values(by=stat_column, ascending=True).head(25)\n",
    "    plt.figure(figsize=(16, 12))\n",
    "    ax = sns.barplot(x=\"Team\", y=stat_column, data=bottom_25_stat)\n",
    "\n",
    "    # Add a legend with FBS Average BMI\n",
    "    plt.legend([f'FBS Average BMI: {fbs_avg_bmi:.2f}'], loc='upper right')\n",
    "\n",
    "    plt.title(title)\n",
    "    plt.xlabel(\"Team\")\n",
    "    plt.ylabel(stat_label)\n",
    "    \n",
    "    # Add BMI number inside the bars (using BMI value)\n",
    "    for p in ax.patches:\n",
    "        team_name = bottom_25_stat.iloc[int(p.get_x())][\"Team\"]  # Extract team name based on x-position\n",
    "        bmi_value = bottom_25_stat[bottom_25_stat[\"Team\"] == team_name][\"BMI\"].values[0]  # Get BMI for the team\n",
    "        ax.annotate(f'{bmi_value:.2f}', \n",
    "                    (p.get_x() + p.get_width() / 2., p.get_height() / 2.), \n",
    "                    ha='center', va='center', fontsize=10, color='black')\n",
    "    \n",
    "    plt.xticks(rotation=90)\n",
    "    plt.tight_layout()\n",
    "    save_single_pdf(lambda: plt.plot(), filename)"
   ]
  },
  {
   "cell_type": "code",
   "execution_count": null,
   "id": "df06028e-0d42-4e3a-8deb-2c3d6c210a9c",
   "metadata": {},
   "outputs": [],
   "source": [
    "# Create Top 25 bar charts for rushing and passing stats\n",
    "plot_top_25_by_bmi('O_Rushing_Yards', 'Offensive Rushing Yards', 'Top 25 Teams by Offensive Rushing Yards', 'Top_25_Teams_by_Offensive_Rushing_Yards.pdf')\n",
    "plot_top_25_by_bmi('D_Rushing_Yards', 'Defensive Rushing Yards', 'Bottom 25 Teams by Defensive Rushing Yards', 'Bottom_25_Teams_by_Defensive_Rushing_Yards.pdf')\n",
    "plot_top_25_by_bmi('O_Receiving_Yards', 'Offensive Receiving Yards', 'Top 25 Teams by Offensive Receiving Yards', 'Top_25_Teams_by_Offensive_Receiving_Yards.pdf')\n",
    "plot_top_25_by_bmi('D_Passing_Yards', 'Defensive Passing Yards', 'Bottom 25 Teams by Defensive Passing Yards', 'Bottom_25_Teams_by_Defensive_Passing_Yards.pdf')"
   ]
  },
  {
   "cell_type": "code",
   "execution_count": null,
   "id": "f0126789-60d4-4302-85bd-12ee07143eff",
   "metadata": {},
   "outputs": [],
   "source": [
    "# Create Bottom 25 bar charts for rushing and passing stats\n",
    "plot_bottom_25_by_bmi('O_Rushing_Yards', 'Offensive Rushing Yards', 'Bottom 25 Teams by Offensive Rushing Yards', 'Bottom_25_Teams_by_Offensive_Rushing_Yards.pdf')\n",
    "plot_bottom_25_by_bmi('D_Rushing_Yards', 'Defensive Rushing Yards', 'Top 25 Teams by Defensive Rushing Yards', 'Top_25_Teams_by_Defensive_Rushing_Yards.pdf')\n",
    "plot_bottom_25_by_bmi('O_Receiving_Yards', 'Offensive Receiving Yards', 'Bottom 25 Teams by Offensive Receiving Yards', 'Bottom_25_Teams_by_Offensive_Receiving_Yards.pdf')\n",
    "plot_bottom_25_by_bmi('D_Passing_Yards', 'Defensive Passing Yards', 'Top 25 Teams by Defensive Passing Yards', 'Top_25_Teams_by_Defensive_Passing_Yards.pdf')"
   ]
  },
  {
   "cell_type": "code",
   "execution_count": null,
   "id": "935b5da9-6097-4b04-a69e-273f59859342",
   "metadata": {},
   "outputs": [],
   "source": [
    "# Plot the top and bottom 25 teams by BMI\n",
    "plot_top_25_bmi_stats()\n",
    "plot_bottom_25_bmi_stats()"
   ]
  },
  {
   "cell_type": "code",
   "execution_count": null,
   "id": "6135368d-c9dd-4bdf-970f-b78b2142af1a",
   "metadata": {},
   "outputs": [],
   "source": [
    "# Function to generate scatter plots with BMI vs various metrics, including regression lines\n",
    "def scatter_bmi_vs_metric_with_trendline(x_data, x_label, title, filename):\n",
    "    plt.figure(figsize=(10, 8))\n",
    "    sns.regplot(x=x_data, y=df_merged[\"BMI\"], scatter_kws={'s': 100}, line_kws={'color': 'red'})\n",
    "    plt.title(title)\n",
    "    plt.xlabel(x_label)\n",
    "    plt.ylabel(\"Team BMI\")\n",
    "    plt.tight_layout()\n",
    "    save_single_pdf(lambda: plt.plot(), filename)"
   ]
  },
  {
   "cell_type": "code",
   "execution_count": null,
   "id": "70873fdf-ef75-41fa-bade-2fb029d34209",
   "metadata": {},
   "outputs": [],
   "source": [
    "# Scatter plot: BMI vs Offensive Rushing Yards with trend line\n",
    "scatter_bmi_vs_metric_with_trendline(df_merged[\"O_Rushing_Yards\"], \"Offensive Rushing Yards\", \"BMI vs Offensive Rushing Yards\", \"BMI_vs_Offensive_Rushing_Yards_with_Trendline.pdf\")"
   ]
  },
  {
   "cell_type": "code",
   "execution_count": null,
   "id": "a2996a48-0e17-4b46-9417-161dc771fc6e",
   "metadata": {},
   "outputs": [],
   "source": [
    "# Scatter plot: BMI vs Defensive Rushing Yards with trend line\n",
    "scatter_bmi_vs_metric_with_trendline(df_merged[\"D_Rushing_Yards\"], \"Defensive Rushing Yards\", \"BMI vs Defensive Rushing Yards\", \"BMI_vs_Defensive_Rushing_Yards_with_Trendline.pdf\")"
   ]
  },
  {
   "cell_type": "code",
   "execution_count": null,
   "id": "1f5a8e6a-1230-4fdd-8530-c264b3385e56",
   "metadata": {},
   "outputs": [],
   "source": [
    "# Scatter plot: BMI vs Offensive Receiving Yards with trend line\n",
    "scatter_bmi_vs_metric_with_trendline(df_merged[\"O_Receiving_Yards\"], \"Offensive Receiving Yards\", \"BMI vs Offensive Receiving Yards\", \"BMI_vs_Offensive_Receiving_Yards_with_Trendline.pdf\")"
   ]
  },
  {
   "cell_type": "code",
   "execution_count": 3,
   "id": "a6de3584-d661-4d66-a09f-05dd26435de4",
   "metadata": {},
   "outputs": [
    {
     "name": "stdout",
     "output_type": "stream",
     "text": [
      "Index(['Team', 'Year', 'G', 'W', 'L', 'Pct', 'Rushing Att', 'O_Rushing_Yards',\n",
      "       'Rushing Y/A', 'Rushing TD', 'O_Rushing_Yards/G', 'Total Receptions',\n",
      "       'O_Receiving_Yards', 'Receiving Y/R', 'Receiving TD_Rec',\n",
      "       'O_Receiving_Yards/G', 'Scrimmage Plays', 'Yds_Scrimmage',\n",
      "       'Scrimmage Avg', 'TD_Scrimmage', 'Cmp', 'Att', 'Cmp%', 'Yds', 'TD',\n",
      "       'TD%', 'Int', 'Int%', 'Y/A', 'AY/A', 'Y/C', 'Y/G', 'Rate'],\n",
      "      dtype='object')\n",
      "Index(['Team', 'BMI', 'Pct', 'W', 'L', 'D_Passing_Yards', 'D_Passing_Yards/G',\n",
      "       'TD_x', 'Int', 'D_Rushing_Yards', 'D_Rushing_Yards/G', 'TD_y',\n",
      "       'O_Rushing_Yards', 'O_Receiving_Yards', 'O_Rushing_Yards/G',\n",
      "       'O_Receiving_Yards/G'],\n",
      "      dtype='object')\n"
     ]
    }
   ],
   "source": [
    "# Scatter plot: BMI vs Defensive Passing Yards with trend line\n",
    "scatter_bmi_vs_metric_with_trendline(df_merged[\"D_Passing_Yards\"], \"Defensive Passing Yards\", \"BMI vs Defensive Passing Yards\", \"BMI_vs_Defensive_Passing_Yards_with_Trendline.pdf\")"
   ]
  },
  {
   "cell_type": "code",
   "execution_count": null,
   "id": "56ed7924-05e0-4c82-9e62-376677cec7d7",
   "metadata": {},
   "outputs": [],
   "source": [
    "print(\"All visualizations saved to PDF.\")"
   ]
  }
 ],
 "metadata": {
  "kernelspec": {
   "display_name": "Python 3 (ipykernel)",
   "language": "python",
   "name": "python3"
  },
  "language_info": {
   "codemirror_mode": {
    "name": "ipython",
    "version": 3
   },
   "file_extension": ".py",
   "mimetype": "text/x-python",
   "name": "python",
   "nbconvert_exporter": "python",
   "pygments_lexer": "ipython3",
   "version": "3.12.7"
  }
 },
 "nbformat": 4,
 "nbformat_minor": 5
}
